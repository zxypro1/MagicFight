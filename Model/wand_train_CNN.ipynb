{
  "nbformat": 4,
  "nbformat_minor": 0,
  "metadata": {
    "colab": {
      "provenance": [],
      "collapsed_sections": []
    },
    "kernelspec": {
      "name": "python3",
      "display_name": "Python 3"
    }
  },
  "cells": [
    {
      "cell_type": "code",
      "metadata": {
        "id": "0g1pF6RfViPr"
      },
      "source": [
        "SAVED_MODEL_FILENAME = \"saved_model\"\n",
        "FLOAT_TFL_MODEL_FILENAME = \"float_model.tfl\"\n",
        "QUANTIZED_TFL_MODEL_FILENAME = \"quantized_model.tfl\"\n",
        "TFL_CC_MODEL_FILENAME = \"magic_wand_model_data.cc\""
      ],
      "execution_count": null,
      "outputs": []
    },
    {
      "cell_type": "code",
      "metadata": {
        "colab": {
          "base_uri": "https://localhost:8080/"
        },
        "id": "xvPo0OP0TFDq",
        "outputId": "13762994-e640-49f5-9827-60452fb67038"
      },
      "source": [
        "!curl -L https://github.com/petewarden/magic_wand_digit_data/archive/8170591863f9addca27b1a963263f7c7bed33f41.zip -o magic_wand_digit_data.zip\n",
        "!unzip magic_wand_digit_data.zip\n",
        "!rm -rf magic_wand_digit_data\n",
        "!mv magic_wand_digit_data-* magic_wand_digit_data\n",
        "!rm -rf magic_wand_digit_data.zip\n",
        "!rm -rf sample_data\n",
        "!mkdir -p checkpoints"
      ],
      "execution_count": null,
      "outputs": [
        {
          "output_type": "stream",
          "name": "stdout",
          "text": [
            "  % Total    % Received % Xferd  Average Speed   Time    Time     Time  Current\n",
            "                                 Dload  Upload   Total   Spent    Left  Speed\n",
            "  0     0    0     0    0     0      0      0 --:--:-- --:--:-- --:--:--     0\n",
            "100  238k    0  238k    0     0   230k      0 --:--:--  0:00:01 --:--:--  230k\n",
            "Archive:  magic_wand_digit_data.zip\n",
            "8170591863f9addca27b1a963263f7c7bed33f41\n",
            "   creating: magic_wand_digit_data-8170591863f9addca27b1a963263f7c7bed33f41/\n",
            "  inflating: magic_wand_digit_data-8170591863f9addca27b1a963263f7c7bed33f41/LICENSE  \n",
            "  inflating: magic_wand_digit_data-8170591863f9addca27b1a963263f7c7bed33f41/petewarden_0.json  \n",
            "  inflating: magic_wand_digit_data-8170591863f9addca27b1a963263f7c7bed33f41/petewarden_1.json  \n",
            "  inflating: magic_wand_digit_data-8170591863f9addca27b1a963263f7c7bed33f41/petewarden_2.json  \n",
            "  inflating: magic_wand_digit_data-8170591863f9addca27b1a963263f7c7bed33f41/petewarden_3.json  \n",
            "  inflating: magic_wand_digit_data-8170591863f9addca27b1a963263f7c7bed33f41/petewarden_4.json  \n",
            "  inflating: magic_wand_digit_data-8170591863f9addca27b1a963263f7c7bed33f41/petewarden_5.json  \n",
            "  inflating: magic_wand_digit_data-8170591863f9addca27b1a963263f7c7bed33f41/petewarden_6.json  \n",
            "  inflating: magic_wand_digit_data-8170591863f9addca27b1a963263f7c7bed33f41/petewarden_7.json  \n",
            "  inflating: magic_wand_digit_data-8170591863f9addca27b1a963263f7c7bed33f41/petewarden_8.json  \n",
            "  inflating: magic_wand_digit_data-8170591863f9addca27b1a963263f7c7bed33f41/petewarden_9.json  \n"
          ]
        }
      ]
    },
    {
      "cell_type": "code",
      "source": [
        "from google.colab import drive\n",
        "drive.mount('/content/drive')"
      ],
      "metadata": {
        "colab": {
          "base_uri": "https://localhost:8080/"
        },
        "id": "pjiFxypeUFAh",
        "outputId": "8323564f-5af4-4ddd-e655-3930688a0a32"
      },
      "execution_count": null,
      "outputs": [
        {
          "output_type": "stream",
          "name": "stdout",
          "text": [
            "Mounted at /content/drive\n"
          ]
        }
      ]
    },
    {
      "cell_type": "code",
      "metadata": {
        "id": "mWO58-igVFSd"
      },
      "source": [
        "import glob\n",
        "import json\n",
        "\n",
        "strokes = []\n",
        "for filename in glob.glob(\"data/*.json\"):\n",
        "  with open(filename, \"r\") as file:\n",
        "    file_contents = file.read()\n",
        "  file_data = json.loads(file_contents)\n",
        "  for stroke in file_data[\"strokes\"]:\n",
        "    stroke[\"filename\"] = filename\n",
        "    strokes.append(stroke)"
      ],
      "execution_count": null,
      "outputs": []
    },
    {
      "cell_type": "code",
      "metadata": {
        "id": "xfLzrpyLVJ5S"
      },
      "source": [
        "import matplotlib.pyplot as plt\n",
        "\n",
        "def plot_stroke(stroke):\n",
        "\n",
        "  x_array = []\n",
        "  y_array = []\n",
        "  for coords in stroke[\"strokePoints\"]:\n",
        "    x_array.append(coords[\"x\"])\n",
        "    y_array.append(coords[\"y\"])\n",
        "\n",
        "  fig = plt.figure(figsize=(12.8, 4.8))\n",
        "  fig.suptitle(stroke[\"label\"])\n",
        "\n",
        "  ax = fig.add_subplot(131)\n",
        "  ax.set_xlabel('x')\n",
        "  ax.set_ylabel('y')\n",
        "  ax.set_xlim(-0.4, 0.4)\n",
        "  ax.set_ylim(-0.4, 0.4)\n",
        "  ax.plot(x_array, y_array)\n",
        "\n",
        "  plt.show()"
      ],
      "execution_count": null,
      "outputs": []
    },
    {
      "cell_type": "code",
      "metadata": {
        "colab": {
          "base_uri": "https://localhost:8080/",
          "height": 357
        },
        "id": "dveZd2ZuW-jl",
        "outputId": "ede00ba4-ab6d-45ed-920c-d90a4883ad5c"
      },
      "source": [
        "plot_stroke(strokes[51])"
      ],
      "execution_count": null,
      "outputs": [
        {
          "output_type": "display_data",
          "data": {
            "text/plain": [
              "<Figure size 921.6x345.6 with 1 Axes>"
            ],
            "image/png": "[encoded data removed]"
          },
          "metadata": {
            "needs_background": "light"
          }
        }
      ]
    },
    {
      "cell_type": "code",
      "metadata": {
        "id": "3FVPj-eqjvoB"
      },
      "source": [
        "import math\n",
        "import numpy as np\n",
        "import PIL\n",
        "\n",
        "FIXED_POINT = 256\n",
        "\n",
        "def mul_fp(a, b):\n",
        "  return (a * b) / FIXED_POINT\n",
        "\n",
        "def div_fp(a, b):\n",
        "  if b == 0:\n",
        "    b = 1\n",
        "  return (a * FIXED_POINT) / b\n",
        "\n",
        "def float_to_fp(a):\n",
        "  return math.floor(a * FIXED_POINT)\n",
        "\n",
        "def norm_to_coord_fp(a, range_fp, half_size_fp):\n",
        "  a_fp = float_to_fp(a)\n",
        "  norm_fp = div_fp(a_fp, range_fp)\n",
        "  return mul_fp(norm_fp, half_size_fp) + half_size_fp\n",
        "\n",
        "def round_fp_to_int(a):\n",
        "  return math.floor((a + (FIXED_POINT / 2)) / FIXED_POINT)\n",
        "\n",
        "def gate(a, min, max):\n",
        "  if a < min:\n",
        "    return min\n",
        "  elif a > max:\n",
        "    return max\n",
        "  else:\n",
        "    return a\n",
        "\n",
        "def rasterize_stroke(stroke_points, x_range, y_range, width, height):\n",
        "  num_channels = 3\n",
        "  buffer_byte_count = height * width * num_channels\n",
        "  buffer = bytearray(buffer_byte_count)\n",
        "\n",
        "  width_fp = width * FIXED_POINT\n",
        "  height_fp = height * FIXED_POINT\n",
        "  half_width_fp = width_fp / 2\n",
        "  half_height_fp = height_fp / 2\n",
        "  x_range_fp = float_to_fp(x_range)\n",
        "  y_range_fp = float_to_fp(y_range)\n",
        "\n",
        "  t_inc_fp = FIXED_POINT / len(stroke_points)\n",
        "\n",
        "  one_half_fp = (FIXED_POINT / 2)\n",
        "\n",
        "  for point_index in range(len(stroke_points) - 1):\n",
        "    start_point = stroke_points[point_index]\n",
        "    end_point = stroke_points[point_index + 1]\n",
        "    start_x_fp = norm_to_coord_fp(start_point[\"x\"], x_range_fp, half_width_fp)\n",
        "    start_y_fp = norm_to_coord_fp(-start_point[\"y\"], y_range_fp, half_height_fp)\n",
        "    end_x_fp = norm_to_coord_fp(end_point[\"x\"], x_range_fp, half_width_fp)\n",
        "    end_y_fp = norm_to_coord_fp(-end_point[\"y\"], y_range_fp, half_height_fp)\n",
        "    delta_x_fp = end_x_fp - start_x_fp\n",
        "    delta_y_fp = end_y_fp - start_y_fp\n",
        "\n",
        "    t_fp = point_index * t_inc_fp\n",
        "    if t_fp < one_half_fp:\n",
        "      local_t_fp = div_fp(t_fp, one_half_fp)\n",
        "      one_minus_t_fp = FIXED_POINT - local_t_fp\n",
        "      red = round_fp_to_int(one_minus_t_fp * 255)\n",
        "      green = round_fp_to_int(local_t_fp * 255)\n",
        "      blue = 0\n",
        "    else:\n",
        "      local_t_fp = div_fp(t_fp - one_half_fp, one_half_fp)\n",
        "      one_minus_t_fp = FIXED_POINT - local_t_fp\n",
        "      red = 0\n",
        "      green = round_fp_to_int(one_minus_t_fp * 255)\n",
        "      blue = round_fp_to_int(local_t_fp * 255)\n",
        "    red = gate(red, 0, 255)\n",
        "    green = gate(green, 0, 255)\n",
        "    blue = gate(blue, 0, 255)\n",
        "\n",
        "    if abs(delta_x_fp) > abs(delta_y_fp):\n",
        "      line_length = abs(round_fp_to_int(delta_x_fp))\n",
        "      if delta_x_fp > 0:\n",
        "        x_inc_fp = 1 * FIXED_POINT\n",
        "        y_inc_fp = div_fp(delta_y_fp, delta_x_fp)\n",
        "      else:\n",
        "        x_inc_fp = -1 * FIXED_POINT\n",
        "        y_inc_fp = -div_fp(delta_y_fp, delta_x_fp)\n",
        "    else:\n",
        "      line_length = abs(round_fp_to_int(delta_y_fp))\n",
        "      if delta_y_fp > 0:\n",
        "        y_inc_fp = 1 * FIXED_POINT\n",
        "        x_inc_fp = div_fp(delta_x_fp, delta_y_fp)\n",
        "      else:\n",
        "        y_inc_fp = -1 * FIXED_POINT\n",
        "        x_inc_fp = -div_fp(delta_x_fp, delta_y_fp)\n",
        "    for i in range(line_length + 1):\n",
        "      x_fp = start_x_fp + (i * x_inc_fp)\n",
        "      y_fp = start_y_fp + (i * y_inc_fp)\n",
        "      x = round_fp_to_int(x_fp)\n",
        "      y = round_fp_to_int(y_fp)\n",
        "      if (x < 0) or (x >= width) or (y < 0) or (y >= height):\n",
        "        continue\n",
        "      buffer_index = (y * width * num_channels) + (x * num_channels)\n",
        "      buffer[buffer_index + 0] = red\n",
        "      buffer[buffer_index + 1] = green\n",
        "      buffer[buffer_index + 2] = blue\n",
        "  \n",
        "  np_buffer = np.frombuffer(buffer, dtype=np.uint8).reshape(height, width, num_channels)\n",
        "\n",
        "  return np_buffer"
      ],
      "execution_count": null,
      "outputs": []
    },
    {
      "cell_type": "code",
      "metadata": {
        "colab": {
          "base_uri": "https://localhost:8080/",
          "height": 529
        },
        "id": "sOaxOIjRskJg",
        "outputId": "f5be28d3-3206-46c4-949f-db2f0dc955e7"
      },
      "source": [
        "raster = rasterize_stroke(strokes[11][\"strokePoints\"], 0.5, 0.5, 32, 32)\n",
        "PIL.Image.fromarray(raster).resize((512, 512), PIL.Image.NEAREST)"
      ],
      "execution_count": null,
      "outputs": [
        {
          "output_type": "execute_result",
          "data": {
            "text/plain": [
              "<PIL.Image.Image image mode=RGB size=512x512 at 0x7F59ECEBF890>"
            ],
            "image/png": "[encoded data removed]"
          },
          "metadata": {},
          "execution_count": 36
        }
      ]
    },
    {
      "cell_type": "code",
      "metadata": {
        "id": "o-FOVdFpgkdf"
      },
      "source": [
        "from pathlib import Path\n",
        "import shutil\n",
        "\n",
        "X_RANGE = 0.6\n",
        "Y_RANGE = 0.6\n",
        "\n",
        "def ensure_empty_dir(dirname):\n",
        "  dirpath = Path(dirname)\n",
        "  if dirpath.exists() and dirpath.is_dir():\n",
        "    shutil.rmtree(dirpath)\n",
        "  dirpath.mkdir()\n",
        "\n",
        "def augment_points(points, move_range, scale_range, rotate_range):\n",
        "  move_x = np.random.uniform(low=-move_range, high=move_range)\n",
        "  move_y = np.random.uniform(low=-move_range, high=move_range)\n",
        "  scale = np.random.uniform(low=1.0-scale_range, high=1.0+scale_range)\n",
        "  rotate = np.random.uniform(low=-rotate_range, high=rotate_range)\n",
        "\n",
        "  x_axis_x = math.cos(rotate) * scale\n",
        "  x_axis_y = math.sin(rotate) * scale\n",
        "\n",
        "  y_axis_x = -math.sin(rotate) * scale\n",
        "  y_axis_y = math.cos(rotate) * scale\n",
        "\n",
        "  new_points = []\n",
        "  for point in points:\n",
        "    old_x = point[\"x\"]\n",
        "    old_y = point[\"y\"]\n",
        "    new_x = (x_axis_x * old_x) + (x_axis_y * old_y) + move_x\n",
        "    new_y = (y_axis_x * old_x) + (y_axis_y * old_y) + move_y\n",
        "    new_points.append({\"x\": new_x, \"y\": new_y})\n",
        "\n",
        "  return new_points\n",
        "\n",
        "def save_strokes_as_images(strokes, root_folder, width, height, augment_count):\n",
        "  ensure_empty_dir(root_folder)\n",
        "  labels = set()\n",
        "  for stroke in strokes:\n",
        "    labels.add(stroke[\"label\"].lower())\n",
        "  for label in labels:\n",
        "    label_path = Path(root_folder, label)\n",
        "    ensure_empty_dir(label_path)\n",
        "\n",
        "  label_counts = {}\n",
        "  for stroke in strokes:\n",
        "    points = stroke[\"strokePoints\"]\n",
        "    label = stroke[\"label\"].lower()\n",
        "    if label == \"\":\n",
        "      raise Exception(\"Missing label for %s:%d\" % (stroke[\"filename\"], stroke[\"index\"]))\n",
        "    if label not in label_counts:\n",
        "      label_counts[label] = 0\n",
        "    label_count = label_counts[label]\n",
        "    label_counts[label] += 1\n",
        "    raster = rasterize_stroke(points, X_RANGE, Y_RANGE, width, height)\n",
        "    image = PIL.Image.fromarray(raster)\n",
        "    image.save(Path(root_folder, label, str(label_count) + \".png\"))\n",
        "    for i in range(augment_count):\n",
        "      augmented_points = augment_points(points, 0.1, 0.1, 0.3)\n",
        "      raster = rasterize_stroke(augmented_points, X_RANGE, Y_RANGE, width, height)\n",
        "      image = PIL.Image.fromarray(raster)\n",
        "      image.save(Path(root_folder, label, str(label_count) + \"_a\" + str(i) + \".png\"))\n"
      ],
      "execution_count": null,
      "outputs": []
    },
    {
      "cell_type": "code",
      "metadata": {
        "id": "2cmmhBwW9d_p"
      },
      "source": [
        "IMAGE_WIDTH = 32\n",
        "IMAGE_HEIGHT = 32\n",
        "\n",
        "shuffled_strokes = strokes\n",
        "np.random.shuffle(shuffled_strokes)\n",
        "\n",
        "test_percentage = 10\n",
        "validation_percentage = 10\n",
        "train_percentage = 100 - (test_percentage + validation_percentage)\n",
        "\n",
        "test_count = math.floor((len(shuffled_strokes) * test_percentage) / 100)\n",
        "validation_count = math.floor((len(shuffled_strokes) * validation_percentage) / 100)\n",
        "test_strokes = shuffled_strokes[0:test_count]\n",
        "validation_strokes = shuffled_strokes[test_count:(test_count + validation_count)]\n",
        "train_strokes = shuffled_strokes[(test_count + validation_count):]\n",
        "\n",
        "save_strokes_as_images(test_strokes, \"test\", IMAGE_WIDTH, IMAGE_HEIGHT, 10)\n",
        "save_strokes_as_images(validation_strokes, \"validation\", IMAGE_WIDTH, IMAGE_HEIGHT, 0)\n",
        "save_strokes_as_images(train_strokes, \"train\", IMAGE_WIDTH, IMAGE_HEIGHT, 10)"
      ],
      "execution_count": null,
      "outputs": []
    },
    {
      "cell_type": "code",
      "metadata": {
        "colab": {
          "base_uri": "https://localhost:8080/"
        },
        "id": "9-Ttfz7LlPil",
        "outputId": "44ee7a07-5fd5-4e45-ed8d-ff9a08f7b862"
      },
      "source": [
        "\n",
        "import tensorflow as tf\n",
        "from tensorflow import keras\n",
        "from tensorflow.keras.utils import image_dataset_from_directory\n",
        "\n",
        "validation_ds = image_dataset_from_directory(\n",
        "    directory='validation',\n",
        "    labels='inferred',\n",
        "    label_mode='categorical',\n",
        "    batch_size=32,\n",
        "    image_size=(IMAGE_WIDTH, IMAGE_HEIGHT)).prefetch(buffer_size=32)\n",
        "\n",
        "train_ds = image_dataset_from_directory(\n",
        "    directory='train',\n",
        "    labels='inferred',\n",
        "    label_mode='categorical',\n",
        "    batch_size=32,\n",
        "    image_size=(IMAGE_WIDTH, IMAGE_HEIGHT)).prefetch(buffer_size=32)\n"
      ],
      "execution_count": null,
      "outputs": [
        {
          "output_type": "stream",
          "name": "stdout",
          "text": [
            "Found 6 files belonging to 2 classes.\n",
            "Found 528 files belonging to 2 classes.\n"
          ]
        }
      ]
    },
    {
      "cell_type": "code",
      "metadata": {
        "colab": {
          "base_uri": "https://localhost:8080/",
          "height": 575
        },
        "id": "Q_vUMVmQn400",
        "outputId": "f09cf817-4722-41c7-9077-ced5a9f787fb"
      },
      "source": [
        "import matplotlib.pyplot as plt\n",
        "\n",
        "plt.figure(figsize=(10, 10))\n",
        "for images, labels in train_ds.take(1):\n",
        "  for i in range(9):\n",
        "    ax = plt.subplot(3, 3, i + 1)\n",
        "    plt.imshow(images[i].numpy().astype(\"uint8\"))\n",
        "    plt.axis(\"off\")"
      ],
      "execution_count": null,
      "outputs": [
        {
          "output_type": "display_data",
          "data": {
            "text/plain": [
              "<Figure size 720x720 with 9 Axes>"
            ],
            "image/png": "[encoded data removed]"
          },
          "metadata": {
            "needs_background": "light"
          }
        }
      ]
    },
    {
      "cell_type": "code",
      "metadata": {
        "id": "21qi3bLAo80t"
      },
      "source": [
        "from keras import layers\n",
        "\n",
        "def make_model(input_shape, num_classes):\n",
        "    inputs = keras.Input(shape=input_shape)\n",
        "\n",
        "    # Entry block\n",
        "    x = layers.Rescaling(1.0 / 255)(inputs)\n",
        "    x = layers.Conv2D(16, 3, strides=2, padding=\"same\")(x)\n",
        "    x = layers.BatchNormalization()(x)\n",
        "    x = layers.Activation(\"relu\")(x)\n",
        "    x = layers.Dropout(0.5)(x)\n",
        "\n",
        "    x = layers.Conv2D(32, 3, strides=2, padding=\"same\")(x)\n",
        "    x = layers.BatchNormalization()(x)\n",
        "    x = layers.Activation(\"relu\")(x)\n",
        "    x = layers.Dropout(0.5)(x)\n",
        "\n",
        "    # x = layers.Conv2D(64, 3, strides=2, padding=\"same\")(x)\n",
        "    # x = layers.BatchNormalization()(x)\n",
        "    # x = layers.Activation(\"relu\")(x)\n",
        "    # x = layers.Dropout(0.5)(x)\n",
        "\n",
        "    x = layers.GlobalAveragePooling2D()(x)\n",
        "    activation = \"softmax\"\n",
        "    units = num_classes\n",
        "\n",
        "    x = layers.Dropout(0.5)(x)\n",
        "    outputs = layers.Dense(units, activation=activation)(x)\n",
        "    return keras.Model(inputs, outputs)"
      ],
      "execution_count": null,
      "outputs": []
    },
    {
      "cell_type": "code",
      "metadata": {
        "colab": {
          "base_uri": "https://localhost:8080/",
          "height": 1000
        },
        "id": "7DjpCkt0qZiy",
        "outputId": "ba9b3e5f-0114-45ab-b69f-1d23c63724d3"
      },
      "source": [
        "model = make_model(input_shape=(IMAGE_WIDTH, IMAGE_HEIGHT, 3), num_classes=2)\n",
        "keras.utils.plot_model(model, show_shapes=True)"
      ],
      "execution_count": null,
      "outputs": [
        {
          "output_type": "execute_result",
          "data": {
            "image/png": "[encoded data removed]",
            "text/plain": [
              "<IPython.core.display.Image object>"
            ]
          },
          "metadata": {},
          "execution_count": 45
        }
      ]
    },
    {
      "cell_type": "code",
      "metadata": {
        "colab": {
          "base_uri": "https://localhost:8080/"
        },
        "id": "287Am2coqkQC",
        "outputId": "9b5bde6d-d569-4ed5-fbbf-231d38f4d300"
      },
      "source": [
        "epochs = 200\n",
        "\n",
        "callbacks = [\n",
        "    keras.callbacks.ModelCheckpoint(\"checkpoints/save_at_{epoch}.h5\"),\n",
        "]\n",
        "model.compile(\n",
        "    optimizer=keras.optimizers.Adam(1e-3),\n",
        "    loss=\"binary_crossentropy\",\n",
        "    metrics=[\"accuracy\"],\n",
        ")\n",
        "history = model.fit(\n",
        "    train_ds, epochs=epochs, callbacks=callbacks, validation_data=validation_ds,\n",
        ")"
      ],
      "execution_count": null,
      "outputs": [
        {
          "output_type": "stream",
          "name": "stdout",
          "text": [
            "Epoch 1/200\n",
            "17/17 [==============================] - 2s 34ms/step - loss: 0.0742 - accuracy: 0.9811 - val_loss: 0.1009 - val_accuracy: 1.0000\n",
            "Epoch 2/200\n",
            "17/17 [==============================] - 1s 24ms/step - loss: 0.0505 - accuracy: 0.9924 - val_loss: 0.0616 - val_accuracy: 1.0000\n",
            "Epoch 3/200\n",
            "17/17 [==============================] - 1s 25ms/step - loss: 0.0582 - accuracy: 0.9943 - val_loss: 0.0266 - val_accuracy: 1.0000\n",
            "Epoch 4/200\n",
            "17/17 [==============================] - 1s 26ms/step - loss: 0.0564 - accuracy: 0.9886 - val_loss: 0.0107 - val_accuracy: 1.0000\n",
            "Epoch 5/200\n",
            "17/17 [==============================] - 1s 25ms/step - loss: 0.0532 - accuracy: 0.9943 - val_loss: 0.0097 - val_accuracy: 1.0000\n",
            "Epoch 6/200\n",
            "17/17 [==============================] - 1s 25ms/step - loss: 0.0454 - accuracy: 0.9943 - val_loss: 0.0240 - val_accuracy: 1.0000\n",
            "Epoch 7/200\n",
            "17/17 [==============================] - 1s 24ms/step - loss: 0.0644 - accuracy: 0.9811 - val_loss: 0.0193 - val_accuracy: 1.0000\n",
            "Epoch 8/200\n",
            "17/17 [==============================] - 1s 24ms/step - loss: 0.0436 - accuracy: 0.9962 - val_loss: 0.0206 - val_accuracy: 1.0000\n",
            "Epoch 9/200\n",
            "17/17 [==============================] - 1s 26ms/step - loss: 0.0440 - accuracy: 0.9924 - val_loss: 0.0060 - val_accuracy: 1.0000\n",
            "Epoch 10/200\n",
            "17/17 [==============================] - 1s 25ms/step - loss: 0.0356 - accuracy: 0.9962 - val_loss: 0.0142 - val_accuracy: 1.0000\n",
            "Epoch 11/200\n",
            "17/17 [==============================] - 1s 26ms/step - loss: 0.0631 - accuracy: 0.9848 - val_loss: 0.0219 - val_accuracy: 1.0000\n",
            "Epoch 12/200\n",
            "17/17 [==============================] - 1s 25ms/step - loss: 0.0481 - accuracy: 0.9924 - val_loss: 0.0804 - val_accuracy: 1.0000\n",
            "Epoch 13/200\n",
            "17/17 [==============================] - 1s 26ms/step - loss: 0.0432 - accuracy: 0.9905 - val_loss: 0.4663 - val_accuracy: 0.8333\n",
            "Epoch 14/200\n",
            "17/17 [==============================] - 1s 25ms/step - loss: 0.0516 - accuracy: 0.9867 - val_loss: 0.0052 - val_accuracy: 1.0000\n",
            "Epoch 15/200\n",
            "17/17 [==============================] - 1s 25ms/step - loss: 0.0531 - accuracy: 0.9867 - val_loss: 0.0060 - val_accuracy: 1.0000\n",
            "Epoch 16/200\n",
            "17/17 [==============================] - 1s 26ms/step - loss: 0.0434 - accuracy: 0.9962 - val_loss: 0.0125 - val_accuracy: 1.0000\n",
            "Epoch 17/200\n",
            "17/17 [==============================] - 1s 24ms/step - loss: 0.0613 - accuracy: 0.9811 - val_loss: 0.2744 - val_accuracy: 0.8333\n",
            "Epoch 18/200\n",
            "17/17 [==============================] - 1s 25ms/step - loss: 0.0427 - accuracy: 0.9943 - val_loss: 0.0635 - val_accuracy: 1.0000\n",
            "Epoch 19/200\n",
            "17/17 [==============================] - 1s 25ms/step - loss: 0.0303 - accuracy: 0.9943 - val_loss: 0.0137 - val_accuracy: 1.0000\n",
            "Epoch 20/200\n",
            "17/17 [==============================] - 1s 26ms/step - loss: 0.0373 - accuracy: 0.9962 - val_loss: 0.0158 - val_accuracy: 1.0000\n",
            "Epoch 21/200\n",
            "17/17 [==============================] - 1s 26ms/step - loss: 0.0501 - accuracy: 0.9848 - val_loss: 0.1089 - val_accuracy: 1.0000\n",
            "Epoch 22/200\n",
            "17/17 [==============================] - 1s 25ms/step - loss: 0.0322 - accuracy: 0.9962 - val_loss: 0.4802 - val_accuracy: 0.6667\n",
            "Epoch 23/200\n",
            "17/17 [==============================] - 1s 25ms/step - loss: 0.0344 - accuracy: 0.9943 - val_loss: 0.4041 - val_accuracy: 0.8333\n",
            "Epoch 24/200\n",
            "17/17 [==============================] - 1s 25ms/step - loss: 0.0431 - accuracy: 0.9905 - val_loss: 0.0236 - val_accuracy: 1.0000\n",
            "Epoch 25/200\n",
            "17/17 [==============================] - 1s 26ms/step - loss: 0.0332 - accuracy: 0.9924 - val_loss: 0.0076 - val_accuracy: 1.0000\n",
            "Epoch 26/200\n",
            "17/17 [==============================] - 1s 25ms/step - loss: 0.0311 - accuracy: 0.9943 - val_loss: 0.0082 - val_accuracy: 1.0000\n",
            "Epoch 27/200\n",
            "17/17 [==============================] - 1s 24ms/step - loss: 0.0383 - accuracy: 0.9924 - val_loss: 0.0144 - val_accuracy: 1.0000\n",
            "Epoch 28/200\n",
            "17/17 [==============================] - 1s 26ms/step - loss: 0.0349 - accuracy: 0.9924 - val_loss: 0.0161 - val_accuracy: 1.0000\n",
            "Epoch 29/200\n",
            "17/17 [==============================] - 1s 24ms/step - loss: 0.0350 - accuracy: 0.9886 - val_loss: 0.0165 - val_accuracy: 1.0000\n",
            "Epoch 30/200\n",
            "17/17 [==============================] - 1s 26ms/step - loss: 0.0412 - accuracy: 0.9848 - val_loss: 0.0059 - val_accuracy: 1.0000\n",
            "Epoch 31/200\n",
            "17/17 [==============================] - 1s 25ms/step - loss: 0.0367 - accuracy: 0.9886 - val_loss: 0.0166 - val_accuracy: 1.0000\n",
            "Epoch 32/200\n",
            "17/17 [==============================] - 1s 26ms/step - loss: 0.0326 - accuracy: 0.9962 - val_loss: 0.0312 - val_accuracy: 1.0000\n",
            "Epoch 33/200\n",
            "17/17 [==============================] - 1s 25ms/step - loss: 0.0343 - accuracy: 0.9905 - val_loss: 0.0169 - val_accuracy: 1.0000\n",
            "Epoch 34/200\n",
            "17/17 [==============================] - 1s 26ms/step - loss: 0.0413 - accuracy: 0.9867 - val_loss: 0.0324 - val_accuracy: 1.0000\n",
            "Epoch 35/200\n",
            "17/17 [==============================] - 1s 26ms/step - loss: 0.0292 - accuracy: 0.9943 - val_loss: 0.0382 - val_accuracy: 1.0000\n",
            "Epoch 36/200\n",
            "17/17 [==============================] - 1s 25ms/step - loss: 0.0269 - accuracy: 0.9962 - val_loss: 0.0391 - val_accuracy: 1.0000\n",
            "Epoch 37/200\n",
            "17/17 [==============================] - 1s 24ms/step - loss: 0.0338 - accuracy: 0.9905 - val_loss: 0.0611 - val_accuracy: 1.0000\n",
            "Epoch 38/200\n",
            "17/17 [==============================] - 1s 25ms/step - loss: 0.0376 - accuracy: 0.9924 - val_loss: 0.3070 - val_accuracy: 0.8333\n",
            "Epoch 39/200\n",
            "17/17 [==============================] - 1s 26ms/step - loss: 0.0265 - accuracy: 0.9962 - val_loss: 0.2924 - val_accuracy: 0.8333\n",
            "Epoch 40/200\n",
            "17/17 [==============================] - 1s 25ms/step - loss: 0.0308 - accuracy: 0.9924 - val_loss: 0.0402 - val_accuracy: 1.0000\n",
            "Epoch 41/200\n",
            "17/17 [==============================] - 1s 25ms/step - loss: 0.0202 - accuracy: 0.9962 - val_loss: 0.0147 - val_accuracy: 1.0000\n",
            "Epoch 42/200\n",
            "17/17 [==============================] - 1s 26ms/step - loss: 0.0237 - accuracy: 0.9962 - val_loss: 0.0046 - val_accuracy: 1.0000\n",
            "Epoch 43/200\n",
            "17/17 [==============================] - 1s 25ms/step - loss: 0.0253 - accuracy: 0.9962 - val_loss: 0.0030 - val_accuracy: 1.0000\n",
            "Epoch 44/200\n",
            "17/17 [==============================] - 1s 26ms/step - loss: 0.0320 - accuracy: 0.9924 - val_loss: 0.0045 - val_accuracy: 1.0000\n",
            "Epoch 45/200\n",
            "17/17 [==============================] - 1s 25ms/step - loss: 0.0199 - accuracy: 0.9981 - val_loss: 0.0047 - val_accuracy: 1.0000\n",
            "Epoch 46/200\n",
            "17/17 [==============================] - 1s 26ms/step - loss: 0.0256 - accuracy: 0.9943 - val_loss: 0.0035 - val_accuracy: 1.0000\n",
            "Epoch 47/200\n",
            "17/17 [==============================] - 1s 26ms/step - loss: 0.0343 - accuracy: 0.9886 - val_loss: 0.0306 - val_accuracy: 1.0000\n",
            "Epoch 48/200\n",
            "17/17 [==============================] - 1s 25ms/step - loss: 0.0232 - accuracy: 0.9962 - val_loss: 0.0178 - val_accuracy: 1.0000\n",
            "Epoch 49/200\n",
            "17/17 [==============================] - 1s 27ms/step - loss: 0.0393 - accuracy: 0.9905 - val_loss: 0.0041 - val_accuracy: 1.0000\n",
            "Epoch 50/200\n",
            "17/17 [==============================] - 1s 27ms/step - loss: 0.0295 - accuracy: 0.9924 - val_loss: 0.0019 - val_accuracy: 1.0000\n",
            "Epoch 51/200\n",
            "17/17 [==============================] - 1s 25ms/step - loss: 0.0228 - accuracy: 0.9962 - val_loss: 0.0055 - val_accuracy: 1.0000\n",
            "Epoch 52/200\n",
            "17/17 [==============================] - 1s 25ms/step - loss: 0.0256 - accuracy: 0.9962 - val_loss: 0.0255 - val_accuracy: 1.0000\n",
            "Epoch 53/200\n",
            "17/17 [==============================] - 1s 26ms/step - loss: 0.0254 - accuracy: 0.9943 - val_loss: 0.0101 - val_accuracy: 1.0000\n",
            "Epoch 54/200\n",
            "17/17 [==============================] - 1s 27ms/step - loss: 0.0304 - accuracy: 0.9943 - val_loss: 0.0037 - val_accuracy: 1.0000\n",
            "Epoch 55/200\n",
            "17/17 [==============================] - 1s 24ms/step - loss: 0.0320 - accuracy: 0.9943 - val_loss: 0.0015 - val_accuracy: 1.0000\n",
            "Epoch 56/200\n",
            "17/17 [==============================] - 1s 24ms/step - loss: 0.0233 - accuracy: 0.9924 - val_loss: 0.0133 - val_accuracy: 1.0000\n",
            "Epoch 57/200\n",
            "17/17 [==============================] - 1s 25ms/step - loss: 0.0277 - accuracy: 0.9962 - val_loss: 7.2159e-04 - val_accuracy: 1.0000\n",
            "Epoch 58/200\n",
            "17/17 [==============================] - 1s 24ms/step - loss: 0.0289 - accuracy: 0.9943 - val_loss: 0.0020 - val_accuracy: 1.0000\n",
            "Epoch 59/200\n",
            "17/17 [==============================] - 1s 25ms/step - loss: 0.0222 - accuracy: 0.9962 - val_loss: 0.0014 - val_accuracy: 1.0000\n",
            "Epoch 60/200\n",
            "17/17 [==============================] - 1s 25ms/step - loss: 0.0287 - accuracy: 0.9924 - val_loss: 0.0034 - val_accuracy: 1.0000\n",
            "Epoch 61/200\n",
            "17/17 [==============================] - 1s 25ms/step - loss: 0.0204 - accuracy: 0.9943 - val_loss: 0.0014 - val_accuracy: 1.0000\n",
            "Epoch 62/200\n",
            "17/17 [==============================] - 1s 26ms/step - loss: 0.0198 - accuracy: 0.9962 - val_loss: 0.0014 - val_accuracy: 1.0000\n",
            "Epoch 63/200\n",
            "17/17 [==============================] - 1s 25ms/step - loss: 0.0282 - accuracy: 0.9905 - val_loss: 0.0064 - val_accuracy: 1.0000\n",
            "Epoch 64/200\n",
            "17/17 [==============================] - 1s 24ms/step - loss: 0.0320 - accuracy: 0.9905 - val_loss: 0.0431 - val_accuracy: 1.0000\n",
            "Epoch 65/200\n",
            "17/17 [==============================] - 1s 25ms/step - loss: 0.0175 - accuracy: 0.9962 - val_loss: 0.0021 - val_accuracy: 1.0000\n",
            "Epoch 66/200\n",
            "17/17 [==============================] - 1s 24ms/step - loss: 0.0233 - accuracy: 0.9981 - val_loss: 5.2685e-04 - val_accuracy: 1.0000\n",
            "Epoch 67/200\n",
            "17/17 [==============================] - 1s 25ms/step - loss: 0.0229 - accuracy: 0.9905 - val_loss: 7.6126e-04 - val_accuracy: 1.0000\n",
            "Epoch 68/200\n",
            "17/17 [==============================] - 1s 24ms/step - loss: 0.0308 - accuracy: 0.9924 - val_loss: 0.0021 - val_accuracy: 1.0000\n",
            "Epoch 69/200\n",
            "17/17 [==============================] - 1s 26ms/step - loss: 0.0202 - accuracy: 0.9962 - val_loss: 8.9569e-04 - val_accuracy: 1.0000\n",
            "Epoch 70/200\n",
            "17/17 [==============================] - 1s 25ms/step - loss: 0.0215 - accuracy: 0.9981 - val_loss: 0.1260 - val_accuracy: 1.0000\n",
            "Epoch 71/200\n",
            "17/17 [==============================] - 1s 25ms/step - loss: 0.0328 - accuracy: 0.9867 - val_loss: 0.0012 - val_accuracy: 1.0000\n",
            "Epoch 72/200\n",
            "17/17 [==============================] - 1s 26ms/step - loss: 0.0283 - accuracy: 0.9924 - val_loss: 0.0015 - val_accuracy: 1.0000\n",
            "Epoch 73/200\n",
            "17/17 [==============================] - 1s 25ms/step - loss: 0.0257 - accuracy: 0.9943 - val_loss: 0.0652 - val_accuracy: 1.0000\n",
            "Epoch 74/200\n",
            "17/17 [==============================] - 1s 25ms/step - loss: 0.0266 - accuracy: 0.9981 - val_loss: 0.0014 - val_accuracy: 1.0000\n",
            "Epoch 75/200\n",
            "17/17 [==============================] - 1s 25ms/step - loss: 0.0200 - accuracy: 0.9962 - val_loss: 7.8327e-04 - val_accuracy: 1.0000\n",
            "Epoch 76/200\n",
            "17/17 [==============================] - 1s 26ms/step - loss: 0.0172 - accuracy: 0.9962 - val_loss: 7.2550e-04 - val_accuracy: 1.0000\n",
            "Epoch 77/200\n",
            "17/17 [==============================] - 1s 24ms/step - loss: 0.0303 - accuracy: 0.9924 - val_loss: 0.0028 - val_accuracy: 1.0000\n",
            "Epoch 78/200\n",
            "17/17 [==============================] - 1s 25ms/step - loss: 0.0422 - accuracy: 0.9830 - val_loss: 0.0061 - val_accuracy: 1.0000\n",
            "Epoch 79/200\n",
            "17/17 [==============================] - 1s 27ms/step - loss: 0.0189 - accuracy: 0.9924 - val_loss: 9.7504e-04 - val_accuracy: 1.0000\n",
            "Epoch 80/200\n",
            "17/17 [==============================] - 1s 25ms/step - loss: 0.0159 - accuracy: 0.9981 - val_loss: 7.8325e-04 - val_accuracy: 1.0000\n",
            "Epoch 81/200\n",
            "17/17 [==============================] - 1s 25ms/step - loss: 0.0236 - accuracy: 0.9924 - val_loss: 0.0060 - val_accuracy: 1.0000\n",
            "Epoch 82/200\n",
            "17/17 [==============================] - 1s 24ms/step - loss: 0.0279 - accuracy: 0.9924 - val_loss: 5.5431e-04 - val_accuracy: 1.0000\n",
            "Epoch 83/200\n",
            "17/17 [==============================] - 1s 26ms/step - loss: 0.0248 - accuracy: 0.9905 - val_loss: 0.0011 - val_accuracy: 1.0000\n",
            "Epoch 84/200\n",
            "17/17 [==============================] - 1s 24ms/step - loss: 0.0281 - accuracy: 0.9962 - val_loss: 0.0029 - val_accuracy: 1.0000\n",
            "Epoch 85/200\n",
            "17/17 [==============================] - 1s 26ms/step - loss: 0.0242 - accuracy: 0.9962 - val_loss: 0.0066 - val_accuracy: 1.0000\n",
            "Epoch 86/200\n",
            "17/17 [==============================] - 1s 25ms/step - loss: 0.0321 - accuracy: 0.9943 - val_loss: 0.0027 - val_accuracy: 1.0000\n",
            "Epoch 87/200\n",
            "17/17 [==============================] - 1s 24ms/step - loss: 0.0228 - accuracy: 0.9962 - val_loss: 0.0024 - val_accuracy: 1.0000\n",
            "Epoch 88/200\n",
            "17/17 [==============================] - 1s 26ms/step - loss: 0.0217 - accuracy: 0.9962 - val_loss: 0.0016 - val_accuracy: 1.0000\n",
            "Epoch 89/200\n",
            "17/17 [==============================] - 1s 24ms/step - loss: 0.0146 - accuracy: 0.9981 - val_loss: 0.0014 - val_accuracy: 1.0000\n",
            "Epoch 90/200\n",
            "17/17 [==============================] - 1s 25ms/step - loss: 0.0175 - accuracy: 0.9962 - val_loss: 0.0031 - val_accuracy: 1.0000\n",
            "Epoch 91/200\n",
            "17/17 [==============================] - 1s 24ms/step - loss: 0.0216 - accuracy: 0.9943 - val_loss: 0.0031 - val_accuracy: 1.0000\n",
            "Epoch 92/200\n",
            "17/17 [==============================] - 1s 26ms/step - loss: 0.0215 - accuracy: 0.9924 - val_loss: 0.0011 - val_accuracy: 1.0000\n",
            "Epoch 93/200\n",
            "17/17 [==============================] - 1s 25ms/step - loss: 0.0157 - accuracy: 0.9962 - val_loss: 0.0027 - val_accuracy: 1.0000\n",
            "Epoch 94/200\n",
            "17/17 [==============================] - 1s 25ms/step - loss: 0.0213 - accuracy: 0.9962 - val_loss: 0.0031 - val_accuracy: 1.0000\n",
            "Epoch 95/200\n",
            "17/17 [==============================] - 1s 25ms/step - loss: 0.0162 - accuracy: 0.9943 - val_loss: 0.0047 - val_accuracy: 1.0000\n",
            "Epoch 96/200\n",
            "17/17 [==============================] - 1s 25ms/step - loss: 0.0244 - accuracy: 0.9905 - val_loss: 4.2512e-04 - val_accuracy: 1.0000\n",
            "Epoch 97/200\n",
            "17/17 [==============================] - 1s 26ms/step - loss: 0.0203 - accuracy: 0.9943 - val_loss: 3.5906e-04 - val_accuracy: 1.0000\n",
            "Epoch 98/200\n",
            "17/17 [==============================] - 1s 26ms/step - loss: 0.0215 - accuracy: 0.9962 - val_loss: 0.0011 - val_accuracy: 1.0000\n",
            "Epoch 99/200\n",
            "17/17 [==============================] - 1s 26ms/step - loss: 0.0212 - accuracy: 0.9943 - val_loss: 0.0069 - val_accuracy: 1.0000\n",
            "Epoch 100/200\n",
            "17/17 [==============================] - 1s 26ms/step - loss: 0.0290 - accuracy: 0.9905 - val_loss: 0.2462 - val_accuracy: 0.8333\n",
            "Epoch 101/200\n",
            "17/17 [==============================] - 1s 25ms/step - loss: 0.0185 - accuracy: 1.0000 - val_loss: 7.6370e-04 - val_accuracy: 1.0000\n",
            "Epoch 102/200\n",
            "17/17 [==============================] - 1s 24ms/step - loss: 0.0218 - accuracy: 0.9943 - val_loss: 0.0040 - val_accuracy: 1.0000\n",
            "Epoch 103/200\n",
            "17/17 [==============================] - 1s 25ms/step - loss: 0.0159 - accuracy: 0.9962 - val_loss: 4.5324e-04 - val_accuracy: 1.0000\n",
            "Epoch 104/200\n",
            "17/17 [==============================] - 1s 26ms/step - loss: 0.0131 - accuracy: 0.9962 - val_loss: 4.1034e-04 - val_accuracy: 1.0000\n",
            "Epoch 105/200\n",
            "17/17 [==============================] - 1s 27ms/step - loss: 0.0429 - accuracy: 0.9773 - val_loss: 3.8715e-04 - val_accuracy: 1.0000\n",
            "Epoch 106/200\n",
            "17/17 [==============================] - 1s 29ms/step - loss: 0.0248 - accuracy: 0.9962 - val_loss: 0.0192 - val_accuracy: 1.0000\n",
            "Epoch 107/200\n",
            "17/17 [==============================] - 1s 28ms/step - loss: 0.0172 - accuracy: 0.9962 - val_loss: 0.0184 - val_accuracy: 1.0000\n",
            "Epoch 108/200\n",
            "17/17 [==============================] - 1s 25ms/step - loss: 0.0315 - accuracy: 0.9924 - val_loss: 0.1066 - val_accuracy: 1.0000\n",
            "Epoch 109/200\n",
            "17/17 [==============================] - 1s 26ms/step - loss: 0.0223 - accuracy: 0.9943 - val_loss: 0.2454 - val_accuracy: 0.8333\n",
            "Epoch 110/200\n",
            "17/17 [==============================] - 1s 24ms/step - loss: 0.0146 - accuracy: 0.9981 - val_loss: 0.0126 - val_accuracy: 1.0000\n",
            "Epoch 111/200\n",
            "17/17 [==============================] - 1s 25ms/step - loss: 0.0194 - accuracy: 0.9962 - val_loss: 0.0019 - val_accuracy: 1.0000\n",
            "Epoch 112/200\n",
            "17/17 [==============================] - 1s 23ms/step - loss: 0.0131 - accuracy: 0.9981 - val_loss: 2.9424e-04 - val_accuracy: 1.0000\n",
            "Epoch 113/200\n",
            "17/17 [==============================] - 1s 25ms/step - loss: 0.0243 - accuracy: 0.9886 - val_loss: 5.7477e-04 - val_accuracy: 1.0000\n",
            "Epoch 114/200\n",
            "17/17 [==============================] - 1s 24ms/step - loss: 0.0170 - accuracy: 0.9981 - val_loss: 0.0036 - val_accuracy: 1.0000\n",
            "Epoch 115/200\n",
            "17/17 [==============================] - 1s 24ms/step - loss: 0.0176 - accuracy: 0.9943 - val_loss: 2.6059e-04 - val_accuracy: 1.0000\n",
            "Epoch 116/200\n",
            "17/17 [==============================] - 1s 25ms/step - loss: 0.0146 - accuracy: 0.9981 - val_loss: 0.0012 - val_accuracy: 1.0000\n",
            "Epoch 117/200\n",
            "17/17 [==============================] - 1s 25ms/step - loss: 0.0162 - accuracy: 0.9962 - val_loss: 0.0049 - val_accuracy: 1.0000\n",
            "Epoch 118/200\n",
            "17/17 [==============================] - 1s 25ms/step - loss: 0.0212 - accuracy: 0.9943 - val_loss: 0.0021 - val_accuracy: 1.0000\n",
            "Epoch 119/200\n",
            "17/17 [==============================] - 1s 24ms/step - loss: 0.0197 - accuracy: 0.9905 - val_loss: 0.0016 - val_accuracy: 1.0000\n",
            "Epoch 120/200\n",
            "17/17 [==============================] - 1s 25ms/step - loss: 0.0205 - accuracy: 0.9981 - val_loss: 1.0353e-04 - val_accuracy: 1.0000\n",
            "Epoch 121/200\n",
            "17/17 [==============================] - 1s 26ms/step - loss: 0.0170 - accuracy: 0.9981 - val_loss: 6.8924e-05 - val_accuracy: 1.0000\n",
            "Epoch 122/200\n",
            "17/17 [==============================] - 1s 26ms/step - loss: 0.0141 - accuracy: 0.9981 - val_loss: 7.9265e-04 - val_accuracy: 1.0000\n",
            "Epoch 123/200\n",
            "17/17 [==============================] - 1s 25ms/step - loss: 0.0265 - accuracy: 0.9924 - val_loss: 1.1749e-04 - val_accuracy: 1.0000\n",
            "Epoch 124/200\n",
            "17/17 [==============================] - 1s 25ms/step - loss: 0.0159 - accuracy: 0.9943 - val_loss: 1.0954e-04 - val_accuracy: 1.0000\n",
            "Epoch 125/200\n",
            "17/17 [==============================] - 1s 25ms/step - loss: 0.0269 - accuracy: 0.9905 - val_loss: 0.0094 - val_accuracy: 1.0000\n",
            "Epoch 126/200\n",
            "17/17 [==============================] - 1s 25ms/step - loss: 0.0138 - accuracy: 0.9981 - val_loss: 0.0271 - val_accuracy: 1.0000\n",
            "Epoch 127/200\n",
            "17/17 [==============================] - 1s 26ms/step - loss: 0.0184 - accuracy: 0.9962 - val_loss: 0.0302 - val_accuracy: 1.0000\n",
            "Epoch 128/200\n",
            "17/17 [==============================] - 1s 25ms/step - loss: 0.0144 - accuracy: 1.0000 - val_loss: 6.1334e-04 - val_accuracy: 1.0000\n",
            "Epoch 129/200\n",
            "17/17 [==============================] - 1s 26ms/step - loss: 0.0142 - accuracy: 0.9962 - val_loss: 1.3086e-04 - val_accuracy: 1.0000\n",
            "Epoch 130/200\n",
            "17/17 [==============================] - 1s 24ms/step - loss: 0.0161 - accuracy: 0.9962 - val_loss: 1.6616e-04 - val_accuracy: 1.0000\n",
            "Epoch 131/200\n",
            "17/17 [==============================] - 1s 25ms/step - loss: 0.0122 - accuracy: 0.9981 - val_loss: 0.0011 - val_accuracy: 1.0000\n",
            "Epoch 132/200\n",
            "17/17 [==============================] - 1s 25ms/step - loss: 0.0151 - accuracy: 0.9981 - val_loss: 5.7902e-04 - val_accuracy: 1.0000\n",
            "Epoch 133/200\n",
            "17/17 [==============================] - 1s 25ms/step - loss: 0.0119 - accuracy: 0.9981 - val_loss: 0.0012 - val_accuracy: 1.0000\n",
            "Epoch 134/200\n",
            "17/17 [==============================] - 1s 25ms/step - loss: 0.0088 - accuracy: 1.0000 - val_loss: 0.0068 - val_accuracy: 1.0000\n",
            "Epoch 135/200\n",
            "17/17 [==============================] - 1s 24ms/step - loss: 0.0099 - accuracy: 1.0000 - val_loss: 0.0082 - val_accuracy: 1.0000\n",
            "Epoch 136/200\n",
            "17/17 [==============================] - 1s 26ms/step - loss: 0.0173 - accuracy: 0.9962 - val_loss: 0.0046 - val_accuracy: 1.0000\n",
            "Epoch 137/200\n",
            "17/17 [==============================] - 1s 25ms/step - loss: 0.0154 - accuracy: 0.9962 - val_loss: 0.0020 - val_accuracy: 1.0000\n",
            "Epoch 138/200\n",
            "17/17 [==============================] - 1s 27ms/step - loss: 0.0170 - accuracy: 0.9943 - val_loss: 1.8682e-04 - val_accuracy: 1.0000\n",
            "Epoch 139/200\n",
            "17/17 [==============================] - 1s 25ms/step - loss: 0.0210 - accuracy: 0.9943 - val_loss: 0.0044 - val_accuracy: 1.0000\n",
            "Epoch 140/200\n",
            "17/17 [==============================] - 1s 24ms/step - loss: 0.0128 - accuracy: 1.0000 - val_loss: 3.1222e-04 - val_accuracy: 1.0000\n",
            "Epoch 141/200\n",
            "17/17 [==============================] - 1s 25ms/step - loss: 0.0261 - accuracy: 0.9886 - val_loss: 0.0118 - val_accuracy: 1.0000\n",
            "Epoch 142/200\n",
            "17/17 [==============================] - 1s 24ms/step - loss: 0.0222 - accuracy: 0.9905 - val_loss: 0.0041 - val_accuracy: 1.0000\n",
            "Epoch 143/200\n",
            "17/17 [==============================] - 1s 26ms/step - loss: 0.0186 - accuracy: 0.9943 - val_loss: 0.0075 - val_accuracy: 1.0000\n",
            "Epoch 144/200\n",
            "17/17 [==============================] - 1s 25ms/step - loss: 0.0185 - accuracy: 0.9924 - val_loss: 2.9612e-04 - val_accuracy: 1.0000\n",
            "Epoch 145/200\n",
            "17/17 [==============================] - 1s 27ms/step - loss: 0.0166 - accuracy: 0.9924 - val_loss: 0.0018 - val_accuracy: 1.0000\n",
            "Epoch 146/200\n",
            "17/17 [==============================] - 1s 25ms/step - loss: 0.0187 - accuracy: 0.9943 - val_loss: 0.0268 - val_accuracy: 1.0000\n",
            "Epoch 147/200\n",
            "17/17 [==============================] - 1s 25ms/step - loss: 0.0217 - accuracy: 0.9962 - val_loss: 0.0013 - val_accuracy: 1.0000\n",
            "Epoch 148/200\n",
            "17/17 [==============================] - 1s 27ms/step - loss: 0.0263 - accuracy: 0.9962 - val_loss: 0.0012 - val_accuracy: 1.0000\n",
            "Epoch 149/200\n",
            "17/17 [==============================] - 1s 24ms/step - loss: 0.0173 - accuracy: 0.9943 - val_loss: 0.1458 - val_accuracy: 0.8333\n",
            "Epoch 150/200\n",
            "17/17 [==============================] - 1s 26ms/step - loss: 0.0177 - accuracy: 0.9962 - val_loss: 0.0731 - val_accuracy: 1.0000\n",
            "Epoch 151/200\n",
            "17/17 [==============================] - 1s 25ms/step - loss: 0.0157 - accuracy: 0.9924 - val_loss: 8.2375e-04 - val_accuracy: 1.0000\n",
            "Epoch 152/200\n",
            "17/17 [==============================] - 1s 26ms/step - loss: 0.0131 - accuracy: 0.9981 - val_loss: 4.7023e-04 - val_accuracy: 1.0000\n",
            "Epoch 153/200\n",
            "17/17 [==============================] - 1s 24ms/step - loss: 0.0194 - accuracy: 0.9905 - val_loss: 5.3066e-04 - val_accuracy: 1.0000\n",
            "Epoch 154/200\n",
            "17/17 [==============================] - 1s 24ms/step - loss: 0.0086 - accuracy: 1.0000 - val_loss: 0.0020 - val_accuracy: 1.0000\n",
            "Epoch 155/200\n",
            "17/17 [==============================] - 1s 26ms/step - loss: 0.0141 - accuracy: 0.9962 - val_loss: 0.0040 - val_accuracy: 1.0000\n",
            "Epoch 156/200\n",
            "17/17 [==============================] - 1s 25ms/step - loss: 0.0095 - accuracy: 0.9962 - val_loss: 7.3483e-04 - val_accuracy: 1.0000\n",
            "Epoch 157/200\n",
            "17/17 [==============================] - 1s 25ms/step - loss: 0.0103 - accuracy: 0.9962 - val_loss: 2.6502e-04 - val_accuracy: 1.0000\n",
            "Epoch 158/200\n",
            "17/17 [==============================] - 1s 25ms/step - loss: 0.0124 - accuracy: 0.9962 - val_loss: 5.0568e-04 - val_accuracy: 1.0000\n",
            "Epoch 159/200\n",
            "17/17 [==============================] - 1s 26ms/step - loss: 0.0188 - accuracy: 0.9905 - val_loss: 0.0274 - val_accuracy: 1.0000\n",
            "Epoch 160/200\n",
            "17/17 [==============================] - 1s 25ms/step - loss: 0.0065 - accuracy: 1.0000 - val_loss: 0.0120 - val_accuracy: 1.0000\n",
            "Epoch 161/200\n",
            "17/17 [==============================] - 1s 25ms/step - loss: 0.0114 - accuracy: 0.9962 - val_loss: 0.0037 - val_accuracy: 1.0000\n",
            "Epoch 162/200\n",
            "17/17 [==============================] - 1s 25ms/step - loss: 0.0168 - accuracy: 0.9943 - val_loss: 8.0373e-04 - val_accuracy: 1.0000\n",
            "Epoch 163/200\n",
            "17/17 [==============================] - 1s 25ms/step - loss: 0.0077 - accuracy: 1.0000 - val_loss: 3.0781e-04 - val_accuracy: 1.0000\n",
            "Epoch 164/200\n",
            "17/17 [==============================] - 1s 25ms/step - loss: 0.0132 - accuracy: 0.9943 - val_loss: 3.2909e-04 - val_accuracy: 1.0000\n",
            "Epoch 165/200\n",
            "17/17 [==============================] - 0s 24ms/step - loss: 0.0097 - accuracy: 1.0000 - val_loss: 2.4543e-04 - val_accuracy: 1.0000\n",
            "Epoch 166/200\n",
            "17/17 [==============================] - 1s 26ms/step - loss: 0.0119 - accuracy: 0.9943 - val_loss: 4.3142e-04 - val_accuracy: 1.0000\n",
            "Epoch 167/200\n",
            "17/17 [==============================] - 1s 24ms/step - loss: 0.0096 - accuracy: 0.9981 - val_loss: 0.0025 - val_accuracy: 1.0000\n",
            "Epoch 168/200\n",
            "17/17 [==============================] - 1s 24ms/step - loss: 0.0112 - accuracy: 0.9962 - val_loss: 0.0059 - val_accuracy: 1.0000\n",
            "Epoch 169/200\n",
            "17/17 [==============================] - 1s 25ms/step - loss: 0.0358 - accuracy: 0.9886 - val_loss: 0.0191 - val_accuracy: 1.0000\n",
            "Epoch 170/200\n",
            "17/17 [==============================] - 1s 24ms/step - loss: 0.0369 - accuracy: 0.9905 - val_loss: 0.0199 - val_accuracy: 1.0000\n",
            "Epoch 171/200\n",
            "17/17 [==============================] - 1s 26ms/step - loss: 0.0143 - accuracy: 0.9962 - val_loss: 0.0019 - val_accuracy: 1.0000\n",
            "Epoch 172/200\n",
            "17/17 [==============================] - 1s 26ms/step - loss: 0.0205 - accuracy: 0.9943 - val_loss: 0.0017 - val_accuracy: 1.0000\n",
            "Epoch 173/200\n",
            "17/17 [==============================] - 1s 26ms/step - loss: 0.0199 - accuracy: 0.9924 - val_loss: 0.0015 - val_accuracy: 1.0000\n",
            "Epoch 174/200\n",
            "17/17 [==============================] - 1s 26ms/step - loss: 0.0139 - accuracy: 0.9962 - val_loss: 8.9255e-04 - val_accuracy: 1.0000\n",
            "Epoch 175/200\n",
            "17/17 [==============================] - 1s 27ms/step - loss: 0.0149 - accuracy: 0.9962 - val_loss: 4.6999e-04 - val_accuracy: 1.0000\n",
            "Epoch 176/200\n",
            "17/17 [==============================] - 1s 25ms/step - loss: 0.0143 - accuracy: 0.9962 - val_loss: 7.4043e-04 - val_accuracy: 1.0000\n",
            "Epoch 177/200\n",
            "17/17 [==============================] - 1s 25ms/step - loss: 0.0136 - accuracy: 0.9943 - val_loss: 6.3922e-04 - val_accuracy: 1.0000\n",
            "Epoch 178/200\n",
            "17/17 [==============================] - 1s 25ms/step - loss: 0.0142 - accuracy: 0.9962 - val_loss: 3.7151e-04 - val_accuracy: 1.0000\n",
            "Epoch 179/200\n",
            "17/17 [==============================] - 1s 25ms/step - loss: 0.0099 - accuracy: 0.9981 - val_loss: 4.7075e-04 - val_accuracy: 1.0000\n",
            "Epoch 180/200\n",
            "17/17 [==============================] - 1s 25ms/step - loss: 0.0121 - accuracy: 0.9962 - val_loss: 9.2439e-04 - val_accuracy: 1.0000\n",
            "Epoch 181/200\n",
            "17/17 [==============================] - 1s 25ms/step - loss: 0.0086 - accuracy: 0.9981 - val_loss: 0.0012 - val_accuracy: 1.0000\n",
            "Epoch 182/200\n",
            "17/17 [==============================] - 1s 25ms/step - loss: 0.0147 - accuracy: 0.9981 - val_loss: 0.0326 - val_accuracy: 1.0000\n",
            "Epoch 183/200\n",
            "17/17 [==============================] - 1s 24ms/step - loss: 0.0148 - accuracy: 0.9943 - val_loss: 0.0620 - val_accuracy: 1.0000\n",
            "Epoch 184/200\n",
            "17/17 [==============================] - 1s 25ms/step - loss: 0.0174 - accuracy: 0.9943 - val_loss: 0.0044 - val_accuracy: 1.0000\n",
            "Epoch 185/200\n",
            "17/17 [==============================] - 1s 26ms/step - loss: 0.0114 - accuracy: 0.9962 - val_loss: 0.0011 - val_accuracy: 1.0000\n",
            "Epoch 186/200\n",
            "17/17 [==============================] - 1s 25ms/step - loss: 0.0099 - accuracy: 0.9981 - val_loss: 0.1276 - val_accuracy: 0.8333\n",
            "Epoch 187/200\n",
            "17/17 [==============================] - 1s 26ms/step - loss: 0.0267 - accuracy: 0.9924 - val_loss: 0.0011 - val_accuracy: 1.0000\n",
            "Epoch 188/200\n",
            "17/17 [==============================] - 1s 26ms/step - loss: 0.0075 - accuracy: 1.0000 - val_loss: 4.8324e-04 - val_accuracy: 1.0000\n",
            "Epoch 189/200\n",
            "17/17 [==============================] - 1s 25ms/step - loss: 0.0138 - accuracy: 0.9962 - val_loss: 9.3862e-04 - val_accuracy: 1.0000\n",
            "Epoch 190/200\n",
            "17/17 [==============================] - 1s 26ms/step - loss: 0.0137 - accuracy: 0.9924 - val_loss: 3.7183e-04 - val_accuracy: 1.0000\n",
            "Epoch 191/200\n",
            "17/17 [==============================] - 1s 25ms/step - loss: 0.0250 - accuracy: 0.9943 - val_loss: 6.5604e-04 - val_accuracy: 1.0000\n",
            "Epoch 192/200\n",
            "17/17 [==============================] - 1s 26ms/step - loss: 0.0074 - accuracy: 0.9981 - val_loss: 3.1543e-04 - val_accuracy: 1.0000\n",
            "Epoch 193/200\n",
            "17/17 [==============================] - 1s 26ms/step - loss: 0.0154 - accuracy: 0.9943 - val_loss: 2.5988e-04 - val_accuracy: 1.0000\n",
            "Epoch 194/200\n",
            "17/17 [==============================] - 1s 26ms/step - loss: 0.0161 - accuracy: 0.9924 - val_loss: 8.3093e-04 - val_accuracy: 1.0000\n",
            "Epoch 195/200\n",
            "17/17 [==============================] - 1s 25ms/step - loss: 0.0090 - accuracy: 0.9962 - val_loss: 9.6233e-04 - val_accuracy: 1.0000\n",
            "Epoch 196/200\n",
            "17/17 [==============================] - 1s 31ms/step - loss: 0.0093 - accuracy: 0.9981 - val_loss: 8.1672e-04 - val_accuracy: 1.0000\n",
            "Epoch 197/200\n",
            "17/17 [==============================] - 1s 25ms/step - loss: 0.0171 - accuracy: 0.9962 - val_loss: 5.0058e-04 - val_accuracy: 1.0000\n",
            "Epoch 198/200\n",
            "17/17 [==============================] - 1s 24ms/step - loss: 0.0136 - accuracy: 0.9962 - val_loss: 2.3814e-04 - val_accuracy: 1.0000\n",
            "Epoch 199/200\n",
            "17/17 [==============================] - 1s 25ms/step - loss: 0.0244 - accuracy: 0.9924 - val_loss: 1.9522e-04 - val_accuracy: 1.0000\n",
            "Epoch 200/200\n",
            "17/17 [==============================] - 0s 24ms/step - loss: 0.0101 - accuracy: 1.0000 - val_loss: 1.5104e-04 - val_accuracy: 1.0000\n"
          ]
        }
      ]
    },
    {
      "cell_type": "code",
      "source": [
        "history.history.keys()"
      ],
      "metadata": {
        "colab": {
          "base_uri": "https://localhost:8080/"
        },
        "id": "pRtGXtKGitC3",
        "outputId": "4c34d336-733f-4363-b1da-712a8b766c28"
      },
      "execution_count": null,
      "outputs": [
        {
          "output_type": "execute_result",
          "data": {
            "text/plain": [
              "dict_keys(['loss', 'accuracy', 'val_loss', 'val_accuracy'])"
            ]
          },
          "metadata": {},
          "execution_count": 54
        }
      ]
    },
    {
      "cell_type": "code",
      "source": [
        "acc = history.history['accuracy']\n",
        "val_acc = history.history['val_accuracy']\n",
        "loss = history.history['loss']\n",
        "val_loss = history.history['val_loss']\n"
      ],
      "metadata": {
        "id": "mWchiHUpiBZ7"
      },
      "execution_count": null,
      "outputs": []
    },
    {
      "cell_type": "code",
      "source": [
        "# # plt.subplot(1, 2, 1)\n",
        "# plt.plot(acc, label='Training Accuracy')\n",
        "# plt.plot(val_acc, label='Validation Accuracy')\n",
        "# plt.title('Training and Validation Accuracy')\n",
        "# plt.legend()\n",
        "\n",
        "# plt.subplot(1, 2, 2)\n",
        "plt.plot(loss, label='Training Loss')\n",
        "plt.plot(val_loss, label='Validation Loss')\n",
        "plt.title('Training and Validation Loss')\n",
        "plt.legend()\n",
        "plt.show()\n"
      ],
      "metadata": {
        "colab": {
          "base_uri": "https://localhost:8080/",
          "height": 281
        },
        "id": "aNJK3nS0i5MO",
        "outputId": "d8f5582f-b48c-41f7-8491-48aed0b1ff73"
      },
      "execution_count": null,
      "outputs": [
        {
          "output_type": "display_data",
          "data": {
            "text/plain": [
              "<Figure size 432x288 with 1 Axes>"
            ],
            "image/png": "[encoded data removed]"
          },
          "metadata": {
            "needs_background": "light"
          }
        }
      ]
    },
    {
      "cell_type": "code",
      "metadata": {
        "colab": {
          "base_uri": "https://localhost:8080/"
        },
        "id": "ocE3kudZq24U",
        "outputId": "5c5bd7b7-e5b0-4735-a09c-6676fc7496d7"
      },
      "source": [
        "def predict_image(model, filename):\n",
        "  img = keras.preprocessing.image.load_img(filename, target_size=(IMAGE_WIDTH, IMAGE_HEIGHT))\n",
        "  img_array = keras.preprocessing.image.img_to_array(img)\n",
        "  img_array = tf.expand_dims(img_array, 0)  # Create batch axis\n",
        "  predictions = model.predict(img_array).flatten()\n",
        "  predicted_label_index = np.argmax(predictions)\n",
        "  predicted_score = predictions[predicted_label_index]\n",
        "  return (predicted_label_index, predicted_score)\n",
        "  \n",
        "index, score = predict_image(model, \"test/r/1.png\")\n",
        "\n",
        "print(index, score)\n"
      ],
      "execution_count": null,
      "outputs": [
        {
          "output_type": "stream",
          "name": "stdout",
          "text": [
            "1/1 [==============================] - 0s 143ms/step\n",
            "2 0.85796976\n"
          ]
        }
      ]
    },
    {
      "cell_type": "code",
      "metadata": {
        "id": "MYyLaqOYtxTH"
      },
      "source": [
        "from IPython.display import Image, display\n",
        "\n",
        "SCORE_THRESHOLD = 0.75\n",
        "\n",
        "correct_count = 0\n",
        "wrong_count = 0\n",
        "discarded_count = 0\n",
        "for label_dir in glob.glob(\"test/*\"):\n",
        "  label = int(label_dir.replace(\"test/\", \"\"))\n",
        "  for filename in glob.glob(label_dir + \"/*.png\"):\n",
        "    index, score = predict_image(model, filename)\n",
        "    if score < SCORE_THRESHOLD:\n",
        "      discarded_count += 1\n",
        "      continue\n",
        "    if index == label:\n",
        "      correct_count += 1\n",
        "    else:\n",
        "      wrong_count += 1\n",
        "      print(\"%d expected, %d found with score %f\" % (label, index, score))\n",
        "      display(Image(filename=filename))\n",
        "\n",
        "correct_percentage = (correct_count / (correct_count + wrong_count)) * 100\n",
        "print(\"%.1f%% correct (N=%d, %d unknown)\" % (correct_percentage, (correct_count + wrong_count), discarded_count))"
      ],
      "execution_count": null,
      "outputs": []
    },
    {
      "cell_type": "code",
      "metadata": {
        "colab": {
          "base_uri": "https://localhost:8080/"
        },
        "id": "d26wGJn0t20g",
        "outputId": "e82f77eb-0316-4431-a7b6-571f380db282"
      },
      "source": [
        "model.save(SAVED_MODEL_FILENAME)"
      ],
      "execution_count": null,
      "outputs": [
        {
          "output_type": "stream",
          "name": "stderr",
          "text": [
            "WARNING:absl:Found untraced functions such as _jit_compiled_convolution_op, _jit_compiled_convolution_op, _jit_compiled_convolution_op while saving (showing 3 of 3). These functions will not be directly callable after loading.\n"
          ]
        }
      ]
    },
    {
      "cell_type": "code",
      "metadata": {
        "colab": {
          "base_uri": "https://localhost:8080/"
        },
        "id": "ki3E7lM_Kr0C",
        "outputId": "038624f6-ba40-4e7a-9474-dbdd75940d90"
      },
      "source": [
        "#!curl -L https://storage.googleapis.com/download.tensorflow.org/models/tflite/micro/magic_wand_saved_model_2021_01_02.tgz -o saved_model.tgz\n",
        "#!tar -xzf saved_model.tgz"
      ],
      "execution_count": null,
      "outputs": [
        {
          "output_type": "stream",
          "text": [
            "  % Total    % Received % Xferd  Average Speed   Time    Time     Time  Current\n",
            "                                 Dload  Upload   Total   Spent    Left  Speed\n",
            "\r  0     0    0     0    0     0      0      0 --:--:-- --:--:-- --:--:--     0\r100  304k  100  304k    0     0  18.5M      0 --:--:-- --:--:-- --:--:-- 18.5M\n"
          ],
          "name": "stdout"
        }
      ]
    },
    {
      "cell_type": "code",
      "metadata": {
        "colab": {
          "base_uri": "https://localhost:8080/"
        },
        "id": "t-hU8aU24gbL",
        "outputId": "541dd053-15a3-4a97-ae7b-a7bbe995c67b"
      },
      "source": [
        "converter = tf.lite.TFLiteConverter.from_saved_model(SAVED_MODEL_FILENAME)\n",
        "model_no_quant_tflite = converter.convert()\n",
        "\n",
        "# Save the model to disk\n",
        "open(FLOAT_TFL_MODEL_FILENAME, \"wb\").write(model_no_quant_tflite)\n",
        "\n",
        "def representative_dataset():\n",
        "  for filename in glob.glob(\"test/*/*.png\"):\n",
        "    img = keras.preprocessing.image.load_img(filename, target_size=(IMAGE_WIDTH, IMAGE_HEIGHT))\n",
        "    img_array = keras.preprocessing.image.img_to_array(img)\n",
        "    img_array = tf.expand_dims(img_array, 0)  # Create batch axis      for images, labels in train_ds.take(1):\n",
        "    yield([img_array])\n",
        "# Set the optimization flag.\n",
        "converter.optimizations = [tf.lite.Optimize.DEFAULT]\n",
        "# Enforce integer only quantization\n",
        "converter.target_spec.supported_ops = [tf.lite.OpsSet.TFLITE_BUILTINS_INT8]\n",
        "converter.inference_input_type = tf.int8\n",
        "converter.inference_output_type = tf.int8\n",
        "# Provide a representative dataset to ensure we quantize correctly.\n",
        "converter.representative_dataset = representative_dataset\n",
        "model_tflite = converter.convert()\n",
        "\n",
        "# Save the model to disk\n",
        "open(QUANTIZED_TFL_MODEL_FILENAME, \"wb\").write(model_tflite)"
      ],
      "execution_count": null,
      "outputs": [
        {
          "output_type": "execute_result",
          "data": {
            "text/plain": [
              "31104"
            ]
          },
          "metadata": {},
          "execution_count": 37
        }
      ]
    },
    {
      "cell_type": "code",
      "metadata": {
        "id": "w5QZTfwRLFAi"
      },
      "source": [
        "def predict_tflite(tflite_model, filename):\n",
        "  img = keras.preprocessing.image.load_img(filename, target_size=(IMAGE_WIDTH, IMAGE_HEIGHT))\n",
        "  img_array = keras.preprocessing.image.img_to_array(img)\n",
        "  img_array = tf.expand_dims(img_array, 0)\n",
        "\n",
        "  # Initialize the TFLite interpreter\n",
        "  interpreter = tf.lite.Interpreter(model_content=tflite_model)\n",
        "  interpreter.allocate_tensors()\n",
        "\n",
        "  input_details = interpreter.get_input_details()[0]\n",
        "  output_details = interpreter.get_output_details()[0]\n",
        "\n",
        "  # If required, quantize the input layer (from float to integer)\n",
        "  input_scale, input_zero_point = input_details[\"quantization\"]\n",
        "  if (input_scale, input_zero_point) != (0.0, 0):\n",
        "    img_array = np.multiply(img_array, 1.0 / input_scale) + input_zero_point\n",
        "    img_array = img_array.astype(input_details[\"dtype\"])\n",
        "  \n",
        "  # Invoke the interpreter\n",
        "  interpreter.set_tensor(input_details[\"index\"], img_array)\n",
        "  interpreter.invoke()\n",
        "  pred = interpreter.get_tensor(output_details[\"index\"])[0]\n",
        "  \n",
        "  # If required, dequantized the output layer (from integer to float)\n",
        "  output_scale, output_zero_point = output_details[\"quantization\"]\n",
        "  if (output_scale, output_zero_point) != (0.0, 0):\n",
        "    pred = pred.astype(np.float32)\n",
        "    pred = np.multiply((pred - output_zero_point), output_scale)\n",
        "  \n",
        "  predicted_label_index = np.argmax(pred)\n",
        "  predicted_score = pred[predicted_label_index]\n",
        "  return (predicted_label_index, predicted_score)"
      ],
      "execution_count": null,
      "outputs": []
    },
    {
      "cell_type": "code",
      "metadata": {
        "colab": {
          "base_uri": "https://localhost:8080/"
        },
        "id": "vtee_WxPMgup",
        "outputId": "8daf5ef4-7b81-467f-a0d6-b94c0e80182f"
      },
      "source": [
        "predict_tflite(model_no_quant_tflite, \"test/v/1.png\")"
      ],
      "execution_count": null,
      "outputs": [
        {
          "output_type": "execute_result",
          "data": {
            "text/plain": [
              "(4, 0.89609146)"
            ]
          },
          "metadata": {},
          "execution_count": 39
        }
      ]
    },
    {
      "cell_type": "code",
      "metadata": {
        "colab": {
          "base_uri": "https://localhost:8080/"
        },
        "id": "0rp0LirfN9vB",
        "outputId": "688d7e02-d5fb-445a-fdd0-014b5678da50"
      },
      "source": [
        "predict_tflite(model_tflite, \"test/v/1.png\")"
      ],
      "execution_count": null,
      "outputs": [
        {
          "output_type": "execute_result",
          "data": {
            "text/plain": [
              "(4, 0.88671875)"
            ]
          },
          "metadata": {},
          "execution_count": 40
        }
      ]
    },
    {
      "cell_type": "code",
      "metadata": {
        "id": "jdNgTO19PRqO"
      },
      "source": [
        "from IPython.display import Image, display\n",
        "\n",
        "correct_count = 0\n",
        "wrong_count = 0\n",
        "discarded_count = 0\n",
        "for label_dir in glob.glob(\"test/*\"):\n",
        "  label = int(label_dir.replace(\"test/\", \"\"))\n",
        "  for filename in glob.glob(label_dir + \"/*.png\"):\n",
        "    index, score = predict_tflite(model_tflite, filename)\n",
        "    if score < 0.75:\n",
        "      discarded_count += 1\n",
        "      continue\n",
        "    if index == label:\n",
        "      correct_count += 1\n",
        "    else:\n",
        "      wrong_count += 1\n",
        "      print(\"%d expected, %d found with score %f\" % (label, index, score))\n",
        "      display(Image(filename=filename))\n",
        "\n",
        "correct_percentage = (correct_count / (correct_count + wrong_count)) * 100\n",
        "\n",
        "print(\"%.1f%% correct (N=%d, %d unknown)\" % (correct_percentage, (correct_count + wrong_count), discarded_count))"
      ],
      "execution_count": null,
      "outputs": []
    },
    {
      "cell_type": "code",
      "metadata": {
        "colab": {
          "base_uri": "https://localhost:8080/",
          "height": 175
        },
        "id": "NTjGMU8BPpoz",
        "outputId": "abbd29b0-de71-4e44-e66d-025d2f77d0f2"
      },
      "source": [
        "import os\n",
        "import pandas as pd\n",
        "\n",
        "def get_dir_size(dir):\n",
        "  size = 0\n",
        "  for f in os.scandir(dir):\n",
        "    if f.is_file():\n",
        "      size += f.stat().st_size\n",
        "    elif f.is_dir():\n",
        "      size += get_dir_size(f.path)\n",
        "  return size\n",
        "\n",
        "# Calculate size\n",
        "size_tf = get_dir_size(SAVED_MODEL_FILENAME)\n",
        "size_no_quant_tflite = os.path.getsize(FLOAT_TFL_MODEL_FILENAME)\n",
        "size_tflite = os.path.getsize(QUANTIZED_TFL_MODEL_FILENAME)\n",
        "\n",
        "# Compare size\n",
        "pd.DataFrame.from_records(\n",
        "    [[\"TensorFlow\", f\"{size_tf} bytes\", \"\"],\n",
        "     [\"TensorFlow Lite\", f\"{size_no_quant_tflite} bytes \", f\"(reduced by {size_tf - size_no_quant_tflite} bytes)\"],\n",
        "     [\"TensorFlow Lite Quantized\", f\"{size_tflite} bytes\", f\"(reduced by {size_no_quant_tflite - size_tflite} bytes)\"]],\n",
        "     columns = [\"Model\", \"Size\", \"\"], index=\"Model\")\n"
      ],
      "execution_count": null,
      "outputs": [
        {
          "output_type": "execute_result",
          "data": {
            "text/plain": [
              "                                   Size                           \n",
              "Model                                                             \n",
              "TensorFlow                 655229 bytes                           \n",
              "TensorFlow Lite            99512 bytes   (reduced by 555717 bytes)\n",
              "TensorFlow Lite Quantized   31104 bytes   (reduced by 68408 bytes)"
            ],
            "text/html": [
              "\n",
              "  <div id=\"df-d61bb4c4-b7de-4e40-aa21-ab4c24f74db5\">\n",
              "    <div class=\"colab-df-container\">\n",
              "      <div>\n",
              "<style scoped>\n",
              "    .dataframe tbody tr th:only-of-type {\n",
              "        vertical-align: middle;\n",
              "    }\n",
              "\n",
              "    .dataframe tbody tr th {\n",
              "        vertical-align: top;\n",
              "    }\n",
              "\n",
              "    .dataframe thead th {\n",
              "        text-align: right;\n",
              "    }\n",
              "</style>\n",
              "<table border=\"1\" class=\"dataframe\">\n",
              "  <thead>\n",
              "    <tr style=\"text-align: right;\">\n",
              "      <th></th>\n",
              "      <th>Size</th>\n",
              "      <th></th>\n",
              "    </tr>\n",
              "    <tr>\n",
              "      <th>Model</th>\n",
              "      <th></th>\n",
              "      <th></th>\n",
              "    </tr>\n",
              "  </thead>\n",
              "  <tbody>\n",
              "    <tr>\n",
              "      <th>TensorFlow</th>\n",
              "      <td>655229 bytes</td>\n",
              "      <td></td>\n",
              "    </tr>\n",
              "    <tr>\n",
              "      <th>TensorFlow Lite</th>\n",
              "      <td>99512 bytes</td>\n",
              "      <td>(reduced by 555717 bytes)</td>\n",
              "    </tr>\n",
              "    <tr>\n",
              "      <th>TensorFlow Lite Quantized</th>\n",
              "      <td>31104 bytes</td>\n",
              "      <td>(reduced by 68408 bytes)</td>\n",
              "    </tr>\n",
              "  </tbody>\n",
              "</table>\n",
              "</div>\n",
              "      <button class=\"colab-df-convert\" onclick=\"convertToInteractive('df-d61bb4c4-b7de-4e40-aa21-ab4c24f74db5')\"\n",
              "              title=\"Convert this dataframe to an interactive table.\"\n",
              "              style=\"display:none;\">\n",
              "        \n",
              "  <svg xmlns=\"http://www.w3.org/2000/svg\" height=\"24px\"viewBox=\"0 0 24 24\"\n",
              "       width=\"24px\">\n",
              "    <path d=\"M0 0h24v24H0V0z\" fill=\"none\"/>\n",
              "    <path d=\"M18.56 5.44l.94 2.06.94-2.06 2.06-.94-2.06-.94-.94-2.06-.94 2.06-2.06.94zm-11 1L8.5 8.5l.94-2.06 2.06-.94-2.06-.94L8.5 2.5l-.94 2.06-2.06.94zm10 10l.94 2.06.94-2.06 2.06-.94-2.06-.94-.94-2.06-.94 2.06-2.06.94z\"/><path d=\"M17.41 7.96l-1.37-1.37c-.4-.4-.92-.59-1.43-.59-.52 0-1.04.2-1.43.59L10.3 9.45l-7.72 7.72c-.78.78-.78 2.05 0 2.83L4 21.41c.39.39.9.59 1.41.59.51 0 1.02-.2 1.41-.59l7.78-7.78 2.81-2.81c.8-.78.8-2.07 0-2.86zM5.41 20L4 18.59l7.72-7.72 1.47 1.35L5.41 20z\"/>\n",
              "  </svg>\n",
              "      </button>\n",
              "      \n",
              "  <style>\n",
              "    .colab-df-container {\n",
              "      display:flex;\n",
              "      flex-wrap:wrap;\n",
              "      gap: 12px;\n",
              "    }\n",
              "\n",
              "    .colab-df-convert {\n",
              "      background-color: #E8F0FE;\n",
              "      border: none;\n",
              "      border-radius: 50%;\n",
              "      cursor: pointer;\n",
              "      display: none;\n",
              "      fill: #1967D2;\n",
              "      height: 32px;\n",
              "      padding: 0 0 0 0;\n",
              "      width: 32px;\n",
              "    }\n",
              "\n",
              "    .colab-df-convert:hover {\n",
              "      background-color: #E2EBFA;\n",
              "      box-shadow: 0px 1px 2px rgba(60, 64, 67, 0.3), 0px 1px 3px 1px rgba(60, 64, 67, 0.15);\n",
              "      fill: #174EA6;\n",
              "    }\n",
              "\n",
              "    [theme=dark] .colab-df-convert {\n",
              "      background-color: #3B4455;\n",
              "      fill: #D2E3FC;\n",
              "    }\n",
              "\n",
              "    [theme=dark] .colab-df-convert:hover {\n",
              "      background-color: #434B5C;\n",
              "      box-shadow: 0px 1px 3px 1px rgba(0, 0, 0, 0.15);\n",
              "      filter: drop-shadow(0px 1px 2px rgba(0, 0, 0, 0.3));\n",
              "      fill: #FFFFFF;\n",
              "    }\n",
              "  </style>\n",
              "\n",
              "      <script>\n",
              "        const buttonEl =\n",
              "          document.querySelector('#df-d61bb4c4-b7de-4e40-aa21-ab4c24f74db5 button.colab-df-convert');\n",
              "        buttonEl.style.display =\n",
              "          google.colab.kernel.accessAllowed ? 'block' : 'none';\n",
              "\n",
              "        async function convertToInteractive(key) {\n",
              "          const element = document.querySelector('#df-d61bb4c4-b7de-4e40-aa21-ab4c24f74db5');\n",
              "          const dataTable =\n",
              "            await google.colab.kernel.invokeFunction('convertToInteractive',\n",
              "                                                     [key], {});\n",
              "          if (!dataTable) return;\n",
              "\n",
              "          const docLinkHtml = 'Like what you see? Visit the ' +\n",
              "            '<a target=\"_blank\" href=https://colab.research.google.com/notebooks/data_table.ipynb>data table notebook</a>'\n",
              "            + ' to learn more about interactive tables.';\n",
              "          element.innerHTML = '';\n",
              "          dataTable['output_type'] = 'display_data';\n",
              "          await google.colab.output.renderOutput(dataTable, element);\n",
              "          const docLink = document.createElement('div');\n",
              "          docLink.innerHTML = docLinkHtml;\n",
              "          element.appendChild(docLink);\n",
              "        }\n",
              "      </script>\n",
              "    </div>\n",
              "  </div>\n",
              "  "
            ]
          },
          "metadata": {},
          "execution_count": 42
        }
      ]
    },
    {
      "cell_type": "code",
      "metadata": {
        "colab": {
          "base_uri": "https://localhost:8080/"
        },
        "id": "mrvnEJLfR8KU",
        "outputId": "48818cd0-12c1-48cf-df8d-04fda0d37507"
      },
      "source": [
        "# Install xxd if it is not available\n",
        "!apt-get update && apt-get -qq install xxd\n",
        "# Convert to a C source file, i.e, a TensorFlow Lite for Microcontrollers model\n",
        "!xxd -i {QUANTIZED_TFL_MODEL_FILENAME} > {TFL_CC_MODEL_FILENAME}\n",
        "# Update variable names\n",
        "REPLACE_TEXT = QUANTIZED_TFL_MODEL_FILENAME.replace('/', '_').replace('.', '_')\n",
        "!sed -i 's/'{REPLACE_TEXT}'/g_magic_wand_model_data/g' {TFL_CC_MODEL_FILENAME}"
      ],
      "execution_count": null,
      "outputs": [
        {
          "output_type": "stream",
          "name": "stdout",
          "text": [
            "\r0% [Working]\r            \rGet:1 http://security.ubuntu.com/ubuntu bionic-security InRelease [88.7 kB]\n",
            "\r0% [Connecting to archive.ubuntu.com (91.189.91.38)] [1 InRelease 14.2 kB/88.7 \r                                                                               \rGet:2 http://ppa.launchpad.net/c2d4u.team/c2d4u4.0+/ubuntu bionic InRelease [15.9 kB]\n",
            "\r0% [Connecting to archive.ubuntu.com (91.189.91.38)] [1 InRelease 14.2 kB/88.7 \r0% [Connecting to archive.ubuntu.com (91.189.91.38)] [1 InRelease 88.7 kB/88.7 \r                                                                               \rGet:3 https://cloud.r-project.org/bin/linux/ubuntu bionic-cran40/ InRelease [3,626 B]\n",
            "\r                                                                               \rHit:4 http://ppa.launchpad.net/cran/libgit2/ubuntu bionic InRelease\n",
            "\r0% [Connecting to archive.ubuntu.com (91.189.91.38)] [Waiting for headers] [Con\r0% [2 InRelease gpgv 15.9 kB] [Connecting to archive.ubuntu.com (91.189.91.38)]\r                                                                               \rHit:5 http://ppa.launchpad.net/deadsnakes/ppa/ubuntu bionic InRelease\n",
            "\r0% [2 InRelease gpgv 15.9 kB] [Connecting to archive.ubuntu.com (91.189.91.38)]\r                                                                               \rHit:6 http://ppa.launchpad.net/graphics-drivers/ppa/ubuntu bionic InRelease\n",
            "Hit:7 http://archive.ubuntu.com/ubuntu bionic InRelease\n",
            "Get:8 http://archive.ubuntu.com/ubuntu bionic-updates InRelease [88.7 kB]\n",
            "Ign:9 https://developer.download.nvidia.com/compute/machine-learning/repos/ubuntu1804/x86_64  InRelease\n",
            "Hit:10 https://developer.download.nvidia.com/compute/cuda/repos/ubuntu1804/x86_64  InRelease\n",
            "Hit:11 https://developer.download.nvidia.com/compute/machine-learning/repos/ubuntu1804/x86_64  Release\n",
            "Get:12 http://ppa.launchpad.net/c2d4u.team/c2d4u4.0+/ubuntu bionic/main Sources [2,214 kB]\n",
            "Get:13 http://ppa.launchpad.net/c2d4u.team/c2d4u4.0+/ubuntu bionic/main amd64 Packages [1,132 kB]\n",
            "Get:14 http://archive.ubuntu.com/ubuntu bionic-backports InRelease [83.3 kB]\n",
            "Get:15 http://security.ubuntu.com/ubuntu bionic-security/main amd64 Packages [3,040 kB]\n",
            "Get:16 http://security.ubuntu.com/ubuntu bionic-security/restricted amd64 Packages [1,226 kB]\n",
            "Get:18 http://archive.ubuntu.com/ubuntu bionic-updates/restricted amd64 Packages [1,267 kB]\n",
            "Get:19 http://archive.ubuntu.com/ubuntu bionic-updates/main amd64 Packages [3,472 kB]\n",
            "Fetched 12.6 MB in 4s (3,340 kB/s)\n",
            "Reading package lists... Done\n"
          ]
        }
      ]
    },
    {
      "cell_type": "code",
      "metadata": {
        "colab": {
          "base_uri": "https://localhost:8080/"
        },
        "id": "oazLUtBqWzdJ",
        "outputId": "677efcbb-8596-4e53-8aec-520492e1cf8d"
      },
      "source": [
        "# Print the C source file\n",
        "!tail {TFL_CC_MODEL_FILENAME}"
      ],
      "execution_count": null,
      "outputs": [
        {
          "output_type": "stream",
          "name": "stdout",
          "text": [
            "  0x04, 0x00, 0x00, 0x00, 0x4c, 0x00, 0x00, 0x00, 0x2c, 0x00, 0x00, 0x00,\n",
            "  0x18, 0x00, 0x00, 0x00, 0x04, 0x00, 0x00, 0x00, 0xd0, 0xff, 0xff, 0xff,\n",
            "  0x19, 0x00, 0x00, 0x00, 0x02, 0x00, 0x00, 0x00, 0x00, 0x00, 0x00, 0x19,\n",
            "  0xe0, 0xff, 0xff, 0xff, 0x09, 0x00, 0x00, 0x00, 0x04, 0x00, 0x00, 0x00,\n",
            "  0x00, 0x00, 0x00, 0x09, 0xf0, 0xff, 0xff, 0xff, 0x28, 0x00, 0x00, 0x00,\n",
            "  0x02, 0x00, 0x00, 0x00, 0x00, 0x00, 0x00, 0x28, 0x0c, 0x00, 0x10, 0x00,\n",
            "  0x0f, 0x00, 0x00, 0x00, 0x08, 0x00, 0x04, 0x00, 0x0c, 0x00, 0x00, 0x00,\n",
            "  0x03, 0x00, 0x00, 0x00, 0x03, 0x00, 0x00, 0x00, 0x00, 0x00, 0x00, 0x03\n",
            "};\n",
            "unsigned int g_magic_wand_model_data_len = 31104;\n"
          ]
        }
      ]
    },
    {
      "cell_type": "code",
      "metadata": {
        "id": "VqN2F42PW-uv"
      },
      "source": [],
      "execution_count": null,
      "outputs": []
    }
  ]
}